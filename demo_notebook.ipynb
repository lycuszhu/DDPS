{
 "cells": [
  {
   "cell_type": "code",
   "execution_count": 1,
   "id": "bbd798d2",
   "metadata": {},
   "outputs": [
    {
     "name": "stderr",
     "output_type": "stream",
     "text": [
      "D:\\Miniconda\\envs\\sktime\\lib\\site-packages\\mass_ts\\_mass_ts.py:18: UserWarning: GPU support will not work. You must pip install mass-ts[gpu].\n",
      "  'GPU support will not work. You must pip install mass-ts[gpu].')\n"
     ]
    }
   ],
   "source": [
    "import sys\n",
    "import os\n",
    "file_path = 'codes/*.py'\n",
    "directory = os.path.dirname(os.path.abspath(file_path))\n",
    "sys.path.append(directory)\n",
    "\n",
    "import numpy as np\n",
    "import pandas as pd\n",
    "import pickle\n",
    "import utils\n",
    "import shapelet_classifier\n",
    "import time\n",
    "from sklearn.metrics import classification_report\n"
   ]
  },
  {
   "cell_type": "markdown",
   "id": "3bca1503",
   "metadata": {},
   "source": [
    "## 1. Loading dataset"
   ]
  },
  {
   "cell_type": "code",
   "execution_count": 23,
   "id": "476510d3",
   "metadata": {},
   "outputs": [],
   "source": [
    "import sktime\n",
    "from sktime.datasets import load_from_tsfile\n",
    "\n",
    "DATA_PATH = os.path.join(os.path.dirname(sktime.__file__), \"datasets/data\")\n",
    "\n",
    "X_train, y_train = load_from_tsfile(\n",
    "    os.path.join(DATA_PATH, \"ItalyPowerDemand/ItalyPowerDemand_TRAIN.ts\"),return_data_type=\"numpy2d\"\n",
    ")\n",
    "X_test, y_test = load_from_tsfile(\n",
    "    os.path.join(DATA_PATH, \"ItalyPowerDemand/ItalyPowerDemand_TEST.ts\"),return_data_type=\"numpy2d\"\n",
    ")\n",
    "y_train, y_test = y_train.astype('int'), y_test.astype('int')\n",
    "classes = np.unique(y_train)"
   ]
  },
  {
   "cell_type": "markdown",
   "id": "f19499a2",
   "metadata": {},
   "source": [
    "## 2. Shapelet discovery with DDPS"
   ]
  },
  {
   "cell_type": "code",
   "execution_count": 21,
   "id": "4ee68a1e",
   "metadata": {},
   "outputs": [
    {
     "name": "stdout",
     "output_type": "stream",
     "text": [
      "yes\n",
      "loose\n",
      "loose\n"
     ]
    }
   ],
   "source": [
    "import DDPS\n",
    "sorted_candidates, sorted_cand_idx = DDPS.DDP_candidates(X_train, y_train, overlap='loose')"
   ]
  },
  {
   "cell_type": "markdown",
   "id": "717f0ec9",
   "metadata": {},
   "source": [
    "## 3. Shapelet selection using SScv and SSpi"
   ]
  },
  {
   "cell_type": "code",
   "execution_count": 29,
   "id": "9b79af75",
   "metadata": {},
   "outputs": [],
   "source": [
    "# SScv and SSpi search best shapelets from top 30 of the sorted candidate list\n",
    "min_n_candidates = min([len(sorted_candidates[ele]) for ele in sorted_candidates])\n",
    "n_shapelets = min(min_n_candidates,30)\n",
    "cand_keep, idx_keep = utils.keep_shapelets(classes, sorted_candidates, sorted_cand_idx, n_shapelets)\n",
    "\n",
    "# transform training set for cross validation experiments\n",
    "# slicing transformed data is faster than repeatedly transforming data with different set of shaspelets \n",
    "transformed_X_train = utils.transform(X_train, cand_keep)\n",
    "\n",
    "# record cross validation results of each k=1,2,3,...30, store in shapelet_scores\n",
    "shapelet_scores=[]\n",
    "for k in range(n_shapelets):\n",
    "    # slicing corresponding attributes of transformed data, equivalent to transforming data with k shapelets\n",
    "    indices = np.array([range(i*n_shapelets,i*n_shapelets+k+1) for i in range(len(classes))]).reshape(-1)\n",
    "    X_train_hat = transformed_X_train[indices].transpose()\n",
    "    # get cross validation score\n",
    "    score,clf = shapelet_classifier.classifier(X_train_hat,y_train)\n",
    "    shapelet_scores.append(score)\n",
    "\n",
    "# SScv:\n",
    "best_k=np.argmax(shapelet_scores)\n",
    "best_shapelets, best_s_idx = utils.keep_shapelets(classes, sorted_candidates, sorted_cand_idx, best_k)\n",
    "\n",
    "SScv_X_train = utils.transform(X_train, best_shapelets).transpose() # transform X_train with selected shapelets \n",
    "SScv_X_test = utils.transform(X_test, best_shapelets).transpose() # transform X_test\n",
    "\n",
    "_,clf = shapelet_classifier.classifier(SScv_X_train,y_train)\n",
    "SScv_model = clf.fit(SScv_X_train,y_train) # train classifier\n",
    "\n",
    "SScv_test_result = classification_report(y_test,SScv_model.predict(SScv_X_test), output_dict=False)\n",
    "\n",
    "# SSpi:\n",
    "rank = shapelet_classifier.get_srank(shapelet_scores)\n",
    "indices = np.array([rank+i*n_shapelets for i in range(len(classes))]).reshape(-1)\n",
    "best_shapelets = [cand_keep[i] for i in indices]\n",
    "\n",
    "SSpi_X_train = utils.transform(X_train, best_shapelets).transpose() # transform X_train with selected shapelets \n",
    "SSpi_X_test = utils.transform(X_test, best_shapelets).transpose() # transform X_test\n",
    "\n",
    "_,clf = shapelet_classifier.classifier(SSpi_X_train,y_train)\n",
    "SSpi_model = clf.fit(SSpi_X_train,y_train) # train classifier\n",
    "\n",
    "SSpi_test_result = classification_report(y_test,SSpi_model.predict(SSpi_X_test), output_dict=False)\n",
    "\n",
    "print('SScv results:', SScv_test_result)\n",
    "print('SSpi results:', SSpi_test_result)\n"
   ]
  },
  {
   "cell_type": "code",
   "execution_count": null,
   "id": "d7e509a8",
   "metadata": {},
   "outputs": [],
   "source": []
  }
 ],
 "metadata": {
  "kernelspec": {
   "display_name": "sktime",
   "language": "python",
   "name": "sktime"
  },
  "language_info": {
   "codemirror_mode": {
    "name": "ipython",
    "version": 3
   },
   "file_extension": ".py",
   "mimetype": "text/x-python",
   "name": "python",
   "nbconvert_exporter": "python",
   "pygments_lexer": "ipython3",
   "version": "3.7.13"
  }
 },
 "nbformat": 4,
 "nbformat_minor": 5
}
